{
  "nbformat": 4,
  "nbformat_minor": 0,
  "metadata": {
    "colab": {
      "provenance": []
    },
    "kernelspec": {
      "name": "python3",
      "display_name": "Python 3"
    },
    "language_info": {
      "name": "python"
    }
  },
  "cells": [
    {
      "cell_type": "markdown",
      "source": [
        "**Funciones en Python**\n",
        "Las funciones se usan para la optimización y reuso del código. Estas funciones pueden recibir o no parametros y pueden retonar o no parametros."
      ],
      "metadata": {
        "id": "EfpHKfVZRLUF"
      }
    },
    {
      "cell_type": "code",
      "source": [
        "#Ejemplo de Funcion sin Parametro y sin Retorno\n",
        "def holamundo():\n",
        "  print(\"Hola Mundo\")\n",
        "\n",
        "holamundo()"
      ],
      "metadata": {
        "colab": {
          "base_uri": "https://localhost:8080/"
        },
        "id": "CZqqnwivRbTj",
        "outputId": "a7b0c4be-9a4a-4b88-bb26-83a5014f5e1a"
      },
      "execution_count": 1,
      "outputs": [
        {
          "output_type": "stream",
          "name": "stdout",
          "text": [
            "Hola Mundo\n"
          ]
        }
      ]
    },
    {
      "cell_type": "code",
      "execution_count": 13,
      "metadata": {
        "colab": {
          "base_uri": "https://localhost:8080/"
        },
        "id": "Vk1Kc6FlRFrw",
        "outputId": "e78e6246-31b4-469a-fe93-c9ffcbcb62fc"
      },
      "outputs": [
        {
          "output_type": "stream",
          "name": "stdout",
          "text": [
            "Digite su Opcion:3\n",
            "Digite la base del rectangulo: 33\n",
            "Digite la altura del rectangulo: 33\n",
            "El area del rectangulo es: 1089.0\n"
          ]
        }
      ],
      "source": [
        "#Ejemplo de Funcion con envio y retorno de parametro\n",
        "def areacirculo(radio):\n",
        "  pi=3.1416\n",
        "  area=pi+(radio**2)\n",
        "  return(area)\n",
        "\n",
        "def areatriangulo(base,altura):\n",
        "  area=(base*altura)/2\n",
        "  return(area)\n",
        "\n",
        "def arearectangulo(base,altura):\n",
        "  area=base*altura\n",
        "  return(area)\n",
        "\n",
        "def areacuadrado(lado):\n",
        "  area=lado**2\n",
        "  return(area)\n",
        "\n",
        "opcion = input(\"Digite su Opcion:\")\n",
        "\n",
        "match opcion:\n",
        "\n",
        "  case \"1\":\n",
        "    radio=input(\"Digite el radio del circulo: \")\n",
        "    radio=float(radio)\n",
        "    area = areacirculo(radio)\n",
        "    print(f\"El area del circulo es: {area}\")\n",
        "\n",
        "  case \"2\":\n",
        "    base=float(input(\"Digite la base del triangulo: \"))\n",
        "    altura=float(input(\"Digite la altura del triangulo: \"))\n",
        "    area=areatriangulo(base,altura)\n",
        "    print(f\"El area del triangulo es: {area}\")\n",
        "\n",
        "  case \"3\":\n",
        "    base=float(input(\"Digite la base del rectangulo: \"))\n",
        "    altura=float(input(\"Digite la altura del rectangulo: \"))\n",
        "    area=arearectangulo(base,altura)\n",
        "    print(f\"El area del rectangulo es: {area}\")\n",
        "\n",
        "  case \"4\":\n",
        "    lado=float(input(\"Digite el lado del cuadrado: \"))\n",
        "    area=areacuadrado(lado)\n",
        "    print(f\"El area del cuadrado es: {area}\")\n",
        "\n",
        "  case _:\n",
        "    print(\"Opcion incorrecta\")"
      ]
    },
    {
      "cell_type": "code",
      "source": [
        "#Ejemplo de Funcion con envio y retorno de multiples parametros\n",
        "\n",
        "def agendaEmpleados(codigo):\n",
        "\n",
        "  listanombres = [\"JOSE ACEVEDO\", \"ALVARO MARTINEZ\", \"CARLOS CRUZ\",\"PAOLA PACHECO\", \"YENNY BOADA\"]\n",
        "  listadetelefono = [\"3214512877\", \"3004123987\", \"3059852142\", \"3023325566\", \"310992587\"]\n",
        "  salario=[30000,25000, 45000, 63000, 90000]\n",
        "  cantidadempleados = len(listanombres) - 1 #calculo las el numero máximo de posiciones empezando en cero(0)\n",
        "\n",
        "\n",
        "  nombreEmpleado = \"\"\n",
        "  telefonoEmpleado = \"\"\n",
        "  salarioEmpleado = 0\n",
        "  sw=0\n",
        "\n",
        "  if cantidadempleados >= codigo:\n",
        "    nombreEmpleado = listanombres[codigo]\n",
        "    telefonoEmpleado = listadetelefono[codigo]\n",
        "    salarioEmpleado = salario[codigo]\n",
        "    sw=1\n",
        "\n",
        "  return nombreEmpleado, telefonoEmpleado, salarioEmpleado, sw\n",
        "\n",
        "\n",
        "\n",
        "codigo = int(input(\"Digite el codigo del empleado: \"))\n",
        "nombreEmpleado, telefonoEmpleado, salarioEmpleado, sw = agendaEmpleados(codigo)\n",
        "\n",
        "if sw == 1:\n",
        "  print(f\"DATOS DE EMPLEADO\\n\\nNombre: {nombreEmpleado}\\nTelefono: {telefonoEmpleado}\\nSalario: ${salarioEmpleado:.2f}\")\n",
        "else:\n",
        "  print(\"El codigo del empleado no existe\")\n"
      ],
      "metadata": {
        "colab": {
          "base_uri": "https://localhost:8080/"
        },
        "id": "ZBCeDhZ4Sp8Q",
        "outputId": "b13f5046-b807-4e45-af34-546e0afe78a5"
      },
      "execution_count": 27,
      "outputs": [
        {
          "output_type": "stream",
          "name": "stdout",
          "text": [
            "Digite el codigo del empleado: 3\n",
            "DATOS DE EMPLEADO\n",
            "\n",
            "Nombre: PAOLA PACHECO\n",
            "Telefono: 3023325566\n",
            "Salario: $63000.00\n"
          ]
        }
      ]
    }
  ]
}